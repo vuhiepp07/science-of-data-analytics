{
 "cells": [
  {
   "cell_type": "markdown",
   "id": "30c63a37-bda7-4424-b1ab-9b9a9cf0a331",
   "metadata": {},
   "source": [
    "## Daily"
   ]
  },
  {
   "cell_type": "code",
   "execution_count": 1,
   "id": "23c25b55-3197-4edd-8bf2-dded4cd817b3",
   "metadata": {
    "tags": []
   },
   "outputs": [],
   "source": [
    "import pandas as pd\n",
    "import numpy as np"
   ]
  },
  {
   "cell_type": "code",
   "execution_count": 2,
   "id": "9be336b5-2621-4061-b1a7-4c661cf06deb",
   "metadata": {
    "tags": []
   },
   "outputs": [],
   "source": [
    "d14 = (\n",
    "    pd.read_csv(\n",
    "        \"rawdata/Fitabase Data 4.12.16-5.12.16/dailyActivity_merged.csv\",\n",
    "        dtype={\"Id\": str},\n",
    "        parse_dates=[\"ActivityDate\"]\n",
    "    )\n",
    "    .rename(columns={\"ActivityDate\": \"ActivityDay\"})\n",
    ")\n",
    "d13 = (\n",
    "    pd.read_csv(\n",
    "        \"rawdata/Fitabase Data 3.12.16-4.11.16/dailyActivity_merged.csv\",\n",
    "        dtype={\"Id\": str},\n",
    "        parse_dates=[\"ActivityDate\"]\n",
    "    )\n",
    "    .rename(columns={\"ActivityDate\": \"ActivityDay\"})\n",
    ")\n",
    "\n",
    "d2 = (\n",
    "    pd.read_csv(\n",
    "        \"rawdata/Fitabase Data 4.12.16-5.12.16/dailyCalories_merged.csv\",\n",
    "        dtype={\"Id\": str},\n",
    "        parse_dates=[\"ActivityDay\"]\n",
    "    )\n",
    ")\n",
    "\n",
    "d3 = (\n",
    "    pd.read_csv(\n",
    "        \"rawdata/Fitabase Data 4.12.16-5.12.16/dailyIntensities_merged.csv\",\n",
    "        dtype={\"Id\": str},\n",
    "        parse_dates=[\"ActivityDay\"]\n",
    "    )\n",
    ")\n",
    "\n",
    "d4 = (\n",
    "    pd.read_csv(\n",
    "        \"rawdata/Fitabase Data 4.12.16-5.12.16/dailySteps_merged.csv\",\n",
    "        dtype={\"Id\": str},\n",
    "        parse_dates=[\"ActivityDay\"]\n",
    "    )\n",
    ")\n"
   ]
  },
  {
   "cell_type": "code",
   "execution_count": 5,
   "id": "085f96f5-fa20-4194-aa40-fd3f01a264f7",
   "metadata": {
    "tags": []
   },
   "outputs": [],
   "source": [
    "d14 = (\n",
    "    pd.read_csv(\n",
    "        \"rawdata/Fitabase Data 4.12.16-5.12.16/dailyActivity_merged.csv\",\n",
    "        dtype={\"Id\": str},\n",
    "        parse_dates=[\"ActivityDate\"]\n",
    "    )\n",
    ")\n",
    "d13 = (\n",
    "    pd.read_csv(\n",
    "        \"rawdata/Fitabase Data 3.12.16-4.11.16/dailyActivity_merged.csv\",\n",
    "        dtype={\"Id\": str},\n",
    "        parse_dates=[\"ActivityDate\"]\n",
    "    )\n",
    ")"
   ]
  },
  {
   "cell_type": "code",
   "execution_count": 6,
   "id": "2344e3be-afce-494e-8cb6-4e331954a39e",
   "metadata": {
    "tags": []
   },
   "outputs": [],
   "source": [
    "d1 = pd.concat([d13,d14])"
   ]
  },
  {
   "cell_type": "code",
   "execution_count": 9,
   "id": "cd3e1a29-f59c-4b8f-b92d-feedcb4346e9",
   "metadata": {
    "tags": []
   },
   "outputs": [
    {
     "name": "stdout",
     "output_type": "stream",
     "text": [
      "✅ Kết nối thành công đến database fitbit!\n"
     ]
    }
   ],
   "source": [
    "import pyodbc\n",
    "\n",
    "# Thông tin kết nối\n",
    "conn_str = (\n",
    "    r\"Driver={ODBC Driver 17 for SQL Server};\"\n",
    "    r\"Server=localhost\\SQL_2022;\"\n",
    "    r\"Database=fitbit;\"\n",
    "    r\"Trusted_Connection=yes;\"\n",
    ")\n",
    "\n",
    "# Kết nối\n",
    "conn = pyodbc.connect(conn_str)\n",
    "cursor = conn.cursor()\n",
    "\n",
    "print(\"✅ Kết nối thành công đến database fitbit!\")"
   ]
  },
  {
   "cell_type": "code",
   "execution_count": 12,
   "id": "1b5387fc-cd30-45ab-ac8a-1730e6aa5bf2",
   "metadata": {
    "tags": []
   },
   "outputs": [
    {
     "name": "stdout",
     "output_type": "stream",
     "text": [
      "✅ Đã ghi DataFrame d1 vào bảng daily_activity thành công!\n"
     ]
    }
   ],
   "source": [
    "from sqlalchemy import create_engine\n",
    "import urllib\n",
    "params = urllib.parse.quote_plus(conn_str)\n",
    "engine = create_engine(f\"mssql+pyodbc:///?odbc_connect={params}\")\n",
    "\n",
    "d1.to_sql(\"daily_activity\", con=engine, if_exists=\"replace\", index=False)\n",
    "\n",
    "print(\"✅ Đã ghi DataFrame d1 vào bảng daily_activity thành công!\")"
   ]
  },
  {
   "cell_type": "code",
   "execution_count": 13,
   "id": "7479e191-f31a-4609-a044-e3d8f1a0bd8e",
   "metadata": {
    "tags": []
   },
   "outputs": [],
   "source": [
    "d4 = (\n",
    "    pd.read_csv(\n",
    "        \"rawdata/Fitabase Data 4.12.16-5.12.16/dailySteps_merged.csv\",\n",
    "        dtype={\"Id\": str},\n",
    "        parse_dates=[\"ActivityDay\"]\n",
    "    )\n",
    ")"
   ]
  },
  {
   "cell_type": "code",
   "execution_count": 14,
   "id": "ebc3a47c-5619-49ea-8070-7b83010788eb",
   "metadata": {
    "tags": []
   },
   "outputs": [
    {
     "data": {
      "text/plain": [
       "241"
      ]
     },
     "execution_count": 14,
     "metadata": {},
     "output_type": "execute_result"
    }
   ],
   "source": [
    "d4.to_sql(\"daily_steps\", con=engine, if_exists=\"replace\", index=False)"
   ]
  },
  {
   "cell_type": "code",
   "execution_count": 15,
   "id": "72da2a0d-d7d2-4ac1-b647-9afa3729a1f5",
   "metadata": {
    "tags": []
   },
   "outputs": [
    {
     "name": "stderr",
     "output_type": "stream",
     "text": [
      "C:\\Users\\phong\\AppData\\Local\\Temp\\ipykernel_528\\2684292791.py:2: UserWarning: Could not infer format, so each element will be parsed individually, falling back to `dateutil`. To ensure parsing is consistent and as-expected, please specify a format.\n",
      "  pd.read_csv(\n",
      "C:\\Users\\phong\\AppData\\Local\\Temp\\ipykernel_528\\2684292791.py:9: UserWarning: Could not infer format, so each element will be parsed individually, falling back to `dateutil`. To ensure parsing is consistent and as-expected, please specify a format.\n",
      "  pd.read_csv(\n",
      "C:\\Users\\phong\\AppData\\Local\\Temp\\ipykernel_528\\2684292791.py:17: UserWarning: Could not infer format, so each element will be parsed individually, falling back to `dateutil`. To ensure parsing is consistent and as-expected, please specify a format.\n",
      "  pd.read_csv(\n"
     ]
    }
   ],
   "source": [
    "h14 = (\n",
    "    pd.read_csv(\n",
    "        \"rawdata/Fitabase Data 4.12.16-5.12.16/hourlyCalories_merged.csv\",\n",
    "        dtype={\"Id\": str},\n",
    "        parse_dates=[\"ActivityHour\"]\n",
    "    )\n",
    ")\n",
    "h24 = (\n",
    "    pd.read_csv(\n",
    "        \"rawdata/Fitabase Data 4.12.16-5.12.16/hourlyIntensities_merged.csv\",\n",
    "        dtype={\"Id\": str},\n",
    "        parse_dates=[\"ActivityHour\"]\n",
    "    )\n",
    ")\n",
    "\n",
    "h34 = (\n",
    "    pd.read_csv(\n",
    "        \"rawdata/Fitabase Data 4.12.16-5.12.16/hourlySteps_merged.csv\",\n",
    "        dtype={\"Id\": str},\n",
    "        parse_dates=[\"ActivityHour\"]\n",
    "    )\n",
    ")"
   ]
  },
  {
   "cell_type": "code",
   "execution_count": 16,
   "id": "74a19efc-c306-412a-9e8a-05c130fef169",
   "metadata": {
    "tags": []
   },
   "outputs": [
    {
     "name": "stderr",
     "output_type": "stream",
     "text": [
      "C:\\Users\\phong\\AppData\\Local\\Temp\\ipykernel_528\\2933609277.py:2: UserWarning: Could not infer format, so each element will be parsed individually, falling back to `dateutil`. To ensure parsing is consistent and as-expected, please specify a format.\n",
      "  pd.read_csv(\n",
      "C:\\Users\\phong\\AppData\\Local\\Temp\\ipykernel_528\\2933609277.py:9: UserWarning: Could not infer format, so each element will be parsed individually, falling back to `dateutil`. To ensure parsing is consistent and as-expected, please specify a format.\n",
      "  pd.read_csv(\n",
      "C:\\Users\\phong\\AppData\\Local\\Temp\\ipykernel_528\\2933609277.py:17: UserWarning: Could not infer format, so each element will be parsed individually, falling back to `dateutil`. To ensure parsing is consistent and as-expected, please specify a format.\n",
      "  pd.read_csv(\n"
     ]
    }
   ],
   "source": [
    "h13 = (\n",
    "    pd.read_csv(\n",
    "        \"rawdata/Fitabase Data 3.12.16-4.11.16/hourlyCalories_merged.csv\",\n",
    "        dtype={\"Id\": str},\n",
    "        parse_dates=[\"ActivityHour\"]\n",
    "    )\n",
    ")\n",
    "h23 = (\n",
    "    pd.read_csv(\n",
    "        \"rawdata/Fitabase Data 3.12.16-4.11.16/hourlyIntensities_merged.csv\",\n",
    "        dtype={\"Id\": str},\n",
    "        parse_dates=[\"ActivityHour\"]\n",
    "    )\n",
    ")\n",
    "\n",
    "h33 = (\n",
    "    pd.read_csv(\n",
    "        \"rawdata/Fitabase Data 3.12.16-4.11.16/hourlySteps_merged.csv\",\n",
    "        dtype={\"Id\": str},\n",
    "        parse_dates=[\"ActivityHour\"]\n",
    "    )\n",
    ")"
   ]
  },
  {
   "cell_type": "code",
   "execution_count": 21,
   "id": "0f773d2e-0b0d-46a7-8904-071b972d9fd7",
   "metadata": {
    "tags": []
   },
   "outputs": [],
   "source": [
    "h1 = pd.concat([h13,h14])\n",
    "h2 = pd.concat([h23,h24])\n",
    "h3 = pd.concat([h33,h34])"
   ]
  },
  {
   "cell_type": "code",
   "execution_count": 22,
   "id": "85bf5e16-63dc-4a52-8dfe-275beeb5ee6e",
   "metadata": {
    "tags": []
   },
   "outputs": [],
   "source": [
    "hourlydf = h1\\\n",
    ".merge(h2, on = ['Id', 'ActivityHour'])\\\n",
    ".merge(h3, on = ['Id', 'ActivityHour'])"
   ]
  },
  {
   "cell_type": "code",
   "execution_count": 23,
   "id": "47f2025a-df4b-4dc6-9a58-3c31115b3206",
   "metadata": {
    "tags": []
   },
   "outputs": [
    {
     "data": {
      "text/plain": [
       "(47233, 6)"
      ]
     },
     "execution_count": 23,
     "metadata": {},
     "output_type": "execute_result"
    }
   ],
   "source": [
    "hourlydf.shape"
   ]
  },
  {
   "cell_type": "code",
   "execution_count": 24,
   "id": "d2deedbf-dc16-48ca-9d27-a675cbf4069b",
   "metadata": {
    "tags": []
   },
   "outputs": [
    {
     "data": {
      "text/plain": [
       "118"
      ]
     },
     "execution_count": 24,
     "metadata": {},
     "output_type": "execute_result"
    }
   ],
   "source": [
    "hourlydf.to_sql(\"hourly_activity\", con=engine, if_exists=\"replace\", index=False)"
   ]
  },
  {
   "cell_type": "code",
   "execution_count": 25,
   "id": "5b03081f-3590-4ac0-9909-98ab23e602d2",
   "metadata": {
    "tags": []
   },
   "outputs": [
    {
     "name": "stderr",
     "output_type": "stream",
     "text": [
      "C:\\Users\\phong\\AppData\\Local\\Temp\\ipykernel_528\\3432124716.py:2: UserWarning: Could not infer format, so each element will be parsed individually, falling back to `dateutil`. To ensure parsing is consistent and as-expected, please specify a format.\n",
      "  pd.read_csv(\n"
     ]
    }
   ],
   "source": [
    "sleepdaydf = (\n",
    "    pd.read_csv(\n",
    "        \"rawdata/Fitabase Data 4.12.16-5.12.16/sleepDay_merged.csv\",\n",
    "        dtype={\"Id\": str},\n",
    "        parse_dates=[\"SleepDay\"]\n",
    "    )\n",
    ")"
   ]
  },
  {
   "cell_type": "code",
   "execution_count": 26,
   "id": "446f35d4-b683-4b16-a81b-ae48129277e8",
   "metadata": {
    "tags": []
   },
   "outputs": [
    {
     "data": {
      "text/plain": [
       "413"
      ]
     },
     "execution_count": 26,
     "metadata": {},
     "output_type": "execute_result"
    }
   ],
   "source": [
    "sleepdaydf.to_sql(\"sleep_day\", con=engine, if_exists=\"replace\", index=False)"
   ]
  },
  {
   "cell_type": "code",
   "execution_count": 27,
   "id": "58d2c331-50f6-446d-b871-9d51f9ccaa82",
   "metadata": {
    "collapsed": true,
    "jupyter": {
     "outputs_hidden": true
    },
    "tags": []
   },
   "outputs": [
    {
     "name": "stderr",
     "output_type": "stream",
     "text": [
      "C:\\Users\\phong\\AppData\\Local\\Temp\\ipykernel_528\\1550010163.py:2: UserWarning: Could not infer format, so each element will be parsed individually, falling back to `dateutil`. To ensure parsing is consistent and as-expected, please specify a format.\n",
      "  pd.read_csv(\n",
      "C:\\Users\\phong\\AppData\\Local\\Temp\\ipykernel_528\\1550010163.py:9: UserWarning: Could not infer format, so each element will be parsed individually, falling back to `dateutil`. To ensure parsing is consistent and as-expected, please specify a format.\n",
      "  pd.read_csv(\n"
     ]
    }
   ],
   "source": [
    "weightloginfo4df = (\n",
    "    pd.read_csv(\n",
    "        \"rawdata/Fitabase Data 4.12.16-5.12.16/weightLogInfo_merged.csv\",\n",
    "        dtype={\"Id\": str},\n",
    "        parse_dates=[\"Date\"]\n",
    "    )\n",
    ")\n",
    "weightloginfo3df = (\n",
    "    pd.read_csv(\n",
    "        \"rawdata/Fitabase Data 3.12.16-4.11.16/weightLogInfo_merged.csv\",\n",
    "        dtype={\"Id\": str},\n",
    "        parse_dates=[\"Date\"]\n",
    "    )\n",
    ")"
   ]
  },
  {
   "cell_type": "code",
   "execution_count": 28,
   "id": "318f9360-3964-4772-b617-2bc9c353f301",
   "metadata": {
    "tags": []
   },
   "outputs": [
    {
     "data": {
      "text/plain": [
       "array([ True,  True,  True,  True,  True,  True,  True,  True])"
      ]
     },
     "execution_count": 28,
     "metadata": {},
     "output_type": "execute_result"
    }
   ],
   "source": [
    "weightloginfo4df.columns == weightloginfo3df.columns"
   ]
  },
  {
   "cell_type": "code",
   "execution_count": 29,
   "id": "9f34ac92-b0cd-4e2d-907d-b46866183a35",
   "metadata": {
    "tags": []
   },
   "outputs": [],
   "source": [
    "weightlogdf = pd.concat([weightloginfo3df, weightloginfo4df])"
   ]
  },
  {
   "cell_type": "code",
   "execution_count": 30,
   "id": "ba35681a-ab62-49a1-ad23-9b9c24c180ad",
   "metadata": {
    "tags": []
   },
   "outputs": [
    {
     "data": {
      "text/plain": [
       "100"
      ]
     },
     "execution_count": 30,
     "metadata": {},
     "output_type": "execute_result"
    }
   ],
   "source": [
    "weightlogdf.to_sql(\"weight_log\", con=engine, if_exists=\"replace\", index=False)"
   ]
  },
  {
   "cell_type": "code",
   "execution_count": null,
   "id": "8eed8543-c506-4508-b245-f3cbf8e5d675",
   "metadata": {},
   "outputs": [],
   "source": []
  },
  {
   "cell_type": "code",
   "execution_count": null,
   "id": "fa4623b8-416d-4009-9737-c50ac55e173e",
   "metadata": {},
   "outputs": [],
   "source": []
  },
  {
   "cell_type": "code",
   "execution_count": 34,
   "id": "5ec35753-a1fd-413d-bab8-a3cd069c671a",
   "metadata": {
    "tags": []
   },
   "outputs": [],
   "source": [
    "import glob\n",
    "import os\n",
    "path4 = \"rawdata/Fitabase Data 4.12.16-5.12.16/\"\n",
    "path3 = \"rawdata/Fitabase Data 3.12.16-4.11.16/\"\n",
    "narrow_files_04 = glob.glob(os.path.join(path, \"*Narrow_merged.csv\"))\n",
    "narrow_files_03 = glob.glob(os.path.join(path, \"*Narrow_merged.csv\"))"
   ]
  },
  {
   "cell_type": "code",
   "execution_count": 35,
   "id": "d9bd4fb6-a833-4460-9f88-f8dd8f0fe80e",
   "metadata": {
    "tags": []
   },
   "outputs": [
    {
     "data": {
      "text/plain": [
       "(['rawdata/Fitabase Data 4.12.16-5.12.16\\\\minuteCaloriesNarrow_merged.csv',\n",
       "  'rawdata/Fitabase Data 4.12.16-5.12.16\\\\minuteIntensitiesNarrow_merged.csv',\n",
       "  'rawdata/Fitabase Data 4.12.16-5.12.16\\\\minuteMETsNarrow_merged.csv',\n",
       "  'rawdata/Fitabase Data 4.12.16-5.12.16\\\\minuteStepsNarrow_merged.csv'],\n",
       " ['rawdata/Fitabase Data 4.12.16-5.12.16\\\\minuteCaloriesNarrow_merged.csv',\n",
       "  'rawdata/Fitabase Data 4.12.16-5.12.16\\\\minuteIntensitiesNarrow_merged.csv',\n",
       "  'rawdata/Fitabase Data 4.12.16-5.12.16\\\\minuteMETsNarrow_merged.csv',\n",
       "  'rawdata/Fitabase Data 4.12.16-5.12.16\\\\minuteStepsNarrow_merged.csv'])"
      ]
     },
     "execution_count": 35,
     "metadata": {},
     "output_type": "execute_result"
    }
   ],
   "source": [
    "narrow_files_03,narrow_files_04"
   ]
  },
  {
   "cell_type": "code",
   "execution_count": 36,
   "id": "719c87a3-0593-4da3-88de-caa50a75ac34",
   "metadata": {
    "tags": []
   },
   "outputs": [
    {
     "name": "stderr",
     "output_type": "stream",
     "text": [
      "C:\\Users\\phong\\AppData\\Local\\Temp\\ipykernel_528\\2574472580.py:3: UserWarning: Could not infer format, so each element will be parsed individually, falling back to `dateutil`. To ensure parsing is consistent and as-expected, please specify a format.\n",
      "  df = pd.read_csv(file, dtype={\"Id\": str}, parse_dates=[\"ActivityMinute\"])\n",
      "C:\\Users\\phong\\AppData\\Local\\Temp\\ipykernel_528\\2574472580.py:3: UserWarning: Could not infer format, so each element will be parsed individually, falling back to `dateutil`. To ensure parsing is consistent and as-expected, please specify a format.\n",
      "  df = pd.read_csv(file, dtype={\"Id\": str}, parse_dates=[\"ActivityMinute\"])\n",
      "C:\\Users\\phong\\AppData\\Local\\Temp\\ipykernel_528\\2574472580.py:3: UserWarning: Could not infer format, so each element will be parsed individually, falling back to `dateutil`. To ensure parsing is consistent and as-expected, please specify a format.\n",
      "  df = pd.read_csv(file, dtype={\"Id\": str}, parse_dates=[\"ActivityMinute\"])\n",
      "C:\\Users\\phong\\AppData\\Local\\Temp\\ipykernel_528\\2574472580.py:3: UserWarning: Could not infer format, so each element will be parsed individually, falling back to `dateutil`. To ensure parsing is consistent and as-expected, please specify a format.\n",
      "  df = pd.read_csv(file, dtype={\"Id\": str}, parse_dates=[\"ActivityMinute\"])\n"
     ]
    }
   ],
   "source": [
    "merged_df_04 = None\n",
    "for file in narrow_files_04:\n",
    "    df = pd.read_csv(file, dtype={\"Id\": str}, parse_dates=[\"ActivityMinute\"])\n",
    "    if merged_df_04 is None:\n",
    "        merged_df_04 = df\n",
    "    else:\n",
    "        merged_df_04 = merged_df_04.merge(df, on=['Id', 'ActivityMinute'], how='outer')"
   ]
  },
  {
   "cell_type": "code",
   "execution_count": 37,
   "id": "068e0e4d-932d-42c7-9977-47f345a4f09b",
   "metadata": {
    "tags": []
   },
   "outputs": [
    {
     "name": "stderr",
     "output_type": "stream",
     "text": [
      "C:\\Users\\phong\\AppData\\Local\\Temp\\ipykernel_528\\2219959460.py:3: UserWarning: Could not infer format, so each element will be parsed individually, falling back to `dateutil`. To ensure parsing is consistent and as-expected, please specify a format.\n",
      "  df = pd.read_csv(file, dtype={\"Id\": str}, parse_dates=[\"ActivityMinute\"])\n",
      "C:\\Users\\phong\\AppData\\Local\\Temp\\ipykernel_528\\2219959460.py:3: UserWarning: Could not infer format, so each element will be parsed individually, falling back to `dateutil`. To ensure parsing is consistent and as-expected, please specify a format.\n",
      "  df = pd.read_csv(file, dtype={\"Id\": str}, parse_dates=[\"ActivityMinute\"])\n",
      "C:\\Users\\phong\\AppData\\Local\\Temp\\ipykernel_528\\2219959460.py:3: UserWarning: Could not infer format, so each element will be parsed individually, falling back to `dateutil`. To ensure parsing is consistent and as-expected, please specify a format.\n",
      "  df = pd.read_csv(file, dtype={\"Id\": str}, parse_dates=[\"ActivityMinute\"])\n",
      "C:\\Users\\phong\\AppData\\Local\\Temp\\ipykernel_528\\2219959460.py:3: UserWarning: Could not infer format, so each element will be parsed individually, falling back to `dateutil`. To ensure parsing is consistent and as-expected, please specify a format.\n",
      "  df = pd.read_csv(file, dtype={\"Id\": str}, parse_dates=[\"ActivityMinute\"])\n"
     ]
    }
   ],
   "source": [
    "merged_df_03 = None\n",
    "for file in narrow_files_03:\n",
    "    df = pd.read_csv(file, dtype={\"Id\": str}, parse_dates=[\"ActivityMinute\"])\n",
    "    if merged_df_03 is None:\n",
    "        merged_df_03 = df\n",
    "    else:\n",
    "        merged_df_03 = merged_df_03.merge(df, on=['Id', 'ActivityMinute'], how='outer')"
   ]
  },
  {
   "cell_type": "code",
   "execution_count": 38,
   "id": "e1418b2f-ec63-4709-a827-f6ee3d16e43b",
   "metadata": {
    "tags": []
   },
   "outputs": [
    {
     "data": {
      "text/plain": [
       "array([ True,  True,  True,  True,  True,  True])"
      ]
     },
     "execution_count": 38,
     "metadata": {},
     "output_type": "execute_result"
    }
   ],
   "source": [
    "merged_df_04.columns == merged_df_03.columns"
   ]
  },
  {
   "cell_type": "code",
   "execution_count": 40,
   "id": "d3f6c3f5-6899-48ab-9df0-bb25617dec86",
   "metadata": {},
   "outputs": [
    {
     "data": {
      "text/plain": [
       "(1325580, 6)"
      ]
     },
     "execution_count": 40,
     "metadata": {},
     "output_type": "execute_result"
    }
   ],
   "source": [
    "merged_df_03.shape"
   ]
  },
  {
   "cell_type": "code",
   "execution_count": 41,
   "id": "92a17d70-3c8e-45d3-b402-fd0e1e93a265",
   "metadata": {},
   "outputs": [],
   "source": [
    "merged_df = pd.concat([merged_df_03, merged_df_04])"
   ]
  },
  {
   "cell_type": "code",
   "execution_count": 42,
   "id": "736fbcd6-5763-45e1-9a45-d11d73de578e",
   "metadata": {},
   "outputs": [
    {
     "data": {
      "text/plain": [
       "156"
      ]
     },
     "execution_count": 42,
     "metadata": {},
     "output_type": "execute_result"
    }
   ],
   "source": [
    "merged_df.to_sql(\"minutely_narrow_activity\", con=engine, if_exists=\"replace\", index=False)"
   ]
  },
  {
   "cell_type": "code",
   "execution_count": 43,
   "id": "31366054-f8bb-4143-8bc8-165ea0c853ce",
   "metadata": {
    "tags": []
   },
   "outputs": [
    {
     "name": "stdout",
     "output_type": "stream",
     "text": [
      "minuteCaloriesWide\n",
      "minuteIntensitiesWide\n",
      "minuteStepsWide\n"
     ]
    }
   ],
   "source": [
    "path = \"rawdata/Fitabase Data 4.12.16-5.12.16/\"\n",
    "wide_files = glob.glob(os.path.join(path, \"*Wide_merged.csv\"))\n",
    "\n",
    "for file in wide_files:\n",
    "    table_name = os.path.basename(file).split('_')[0]\n",
    "    df = pd.read_csv(file, dtype={\"Id\": str})\n",
    "    df.to_sql(table_name, con=engine, if_exists=\"replace\", index=False)\n",
    "    print(table_name)"
   ]
  },
  {
   "cell_type": "code",
   "execution_count": 44,
   "id": "ca6d852e-9727-4f1c-8877-29244f9dcf0c",
   "metadata": {
    "tags": []
   },
   "outputs": [],
   "source": [
    "minutesleepdf_04 = (\n",
    "    pd.read_csv(\n",
    "        \"rawdata/Fitabase Data 4.12.16-5.12.16/minuteSleep_merged.csv\",\n",
    "        dtype={\"Id\": str},\n",
    "        parse_dates=[\"date\"]\n",
    "    )\n",
    ")\n",
    "minutesleepdf_03 = (\n",
    "    pd.read_csv(\n",
    "        \"rawdata/Fitabase Data 3.12.16-4.11.16/minuteSleep_merged.csv\",\n",
    "        dtype={\"Id\": str},\n",
    "        parse_dates=[\"date\"]\n",
    "    )\n",
    ")"
   ]
  },
  {
   "cell_type": "code",
   "execution_count": 45,
   "id": "2ea62434-d21d-4bee-9064-931c9c718cb7",
   "metadata": {
    "tags": []
   },
   "outputs": [
    {
     "data": {
      "text/plain": [
       "array([ True,  True,  True,  True])"
      ]
     },
     "execution_count": 45,
     "metadata": {},
     "output_type": "execute_result"
    }
   ],
   "source": [
    "minutesleepdf_04.columns == minutesleepdf_03.columns"
   ]
  },
  {
   "cell_type": "code",
   "execution_count": 46,
   "id": "db80669a-86dd-4465-92a8-df90b66d5de4",
   "metadata": {
    "tags": []
   },
   "outputs": [],
   "source": [
    "minutesleepdf = pd.concat([minutesleepdf_03, minutesleepdf_04])"
   ]
  },
  {
   "cell_type": "code",
   "execution_count": 47,
   "id": "e573441a-1503-4717-8f43-01ad223f1bb2",
   "metadata": {
    "tags": []
   },
   "outputs": [
    {
     "data": {
      "text/plain": [
       "368"
      ]
     },
     "execution_count": 47,
     "metadata": {},
     "output_type": "execute_result"
    }
   ],
   "source": [
    "minutesleepdf.to_sql(\"sleep_minute\", con=engine, if_exists=\"replace\", index=False)"
   ]
  },
  {
   "cell_type": "code",
   "execution_count": 48,
   "id": "653f42ec-b7fb-4532-9eae-e100cf4336bf",
   "metadata": {
    "tags": []
   },
   "outputs": [],
   "source": [
    "heartratedf_04 = (\n",
    "    pd.read_csv(\n",
    "        \"rawdata/Fitabase Data 4.12.16-5.12.16/heartrate_seconds_merged.csv\",\n",
    "        dtype={\"Id\": str},\n",
    "        parse_dates=[\"Time\"]\n",
    "    )\n",
    ")\n",
    "heartratedf_03 = (\n",
    "    pd.read_csv(\n",
    "        \"rawdata/Fitabase Data 3.12.16-4.11.16/heartrate_seconds_merged.csv\",\n",
    "        dtype={\"Id\": str},\n",
    "        parse_dates=[\"Time\"]\n",
    "    )\n",
    ")"
   ]
  },
  {
   "cell_type": "code",
   "execution_count": 49,
   "id": "94782ba6-b7e7-4c27-9fa5-6721f483f612",
   "metadata": {
    "tags": []
   },
   "outputs": [
    {
     "data": {
      "text/plain": [
       "array([ True,  True,  True])"
      ]
     },
     "execution_count": 49,
     "metadata": {},
     "output_type": "execute_result"
    }
   ],
   "source": [
    "heartratedf_04.columns == heartratedf_03.columns"
   ]
  },
  {
   "cell_type": "code",
   "execution_count": 50,
   "id": "91f2ef47-ee9b-4a3d-b6b9-a31a8963d661",
   "metadata": {
    "tags": []
   },
   "outputs": [],
   "source": [
    "heartratedf = pd.concat([heartratedf_03, heartratedf_04])"
   ]
  },
  {
   "cell_type": "code",
   "execution_count": 51,
   "id": "1c09b02f-3c75-45cb-b54c-dc390ebeb2c7",
   "metadata": {
    "tags": []
   },
   "outputs": [
    {
     "data": {
      "text/plain": [
       "44"
      ]
     },
     "execution_count": 51,
     "metadata": {},
     "output_type": "execute_result"
    }
   ],
   "source": [
    "heartratedf.to_sql(\"heartrate\", con=engine, if_exists=\"replace\", index=False)"
   ]
  },
  {
   "cell_type": "code",
   "execution_count": null,
   "id": "77c56a0b-9982-428c-91b3-e42c7e82210f",
   "metadata": {},
   "outputs": [],
   "source": [
    "conn.close()"
   ]
  }
 ],
 "metadata": {
  "kernelspec": {
   "display_name": "python39",
   "language": "python",
   "name": "python39"
  },
  "language_info": {
   "codemirror_mode": {
    "name": "ipython",
    "version": 3
   },
   "file_extension": ".py",
   "mimetype": "text/x-python",
   "name": "python",
   "nbconvert_exporter": "python",
   "pygments_lexer": "ipython3",
   "version": "3.11.5"
  }
 },
 "nbformat": 4,
 "nbformat_minor": 5
}
